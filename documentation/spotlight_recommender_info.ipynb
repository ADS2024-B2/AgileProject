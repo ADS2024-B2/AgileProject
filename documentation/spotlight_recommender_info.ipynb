{
 "cells": [
  {
   "cell_type": "markdown",
   "metadata": {},
   "source": [
    "# Initial research on Spotlight recommender\n",
    "\n",
    "[Spotlight](https://github.com/maciejkula/spotlight) is a python package which uses PyTorch to build both deep and shallow recommender models. For our current challenge we are interested in movie recommendations, and Spotlight provides both data and models to start with.\n",
    "\n",
    "The dataset we have available within the package is Movielens."
   ]
  },
  {
   "cell_type": "markdown",
   "metadata": {},
   "source": [
    "## Available models\n",
    "\n",
    "The models that are easily usable, with example notebooks on how to use them, are the following:"
   ]
  },
  {
   "cell_type": "markdown",
   "metadata": {},
   "source": [
    "### Explicit feedback model\n",
    "\n",
    "This model would take explicit feedback signals like movie ratings to recommend new content. This is achieved by **matrix factorization**, where users are rows, movies are columns, and the elements in the matrix are the ratings each user gave to each movie.\n",
    "\n",
    "The idea of representing both movies and users with vectors is to reduce them into a shared latent space. Calculating the dot product of their representation in this space is then equivalent to measuring similarity or alignment between them.\n",
    "\n",
    "The learning in this model happens by adjusting the values of the user and movie embedding vectors so that the predicted ratings (obtained with the dot product between user and item) match the actual ratings. Internally, the latent representations of users and movies are created by [`BilinearNet`](https://maciejkula.github.io/spotlight/factorization/representations.html), which uses the `embedding_dim` parameter to create representations of a certain length (using variations on PyTorch's `Embedding`).\n",
    "\n",
    "This model can be found in [`factorization.explicit.ExplicitFactorizationModel`](https://maciejkula.github.io/spotlight/factorization/explicit.html) class. It has a `fit` function to train the model, and a `predict` function that could be used in our app once the model is trained (given a user id, it computes the recommendation scores for all movies in the matrix, we could return the top ones)."
   ]
  },
  {
   "cell_type": "markdown",
   "metadata": {},
   "source": [
    "### Implicit feedback model\n",
    "\n",
    "Because it has been seen that what people choose to interact with does not necessarily depend on the explicit feedback they give, implicit feedback models are nowadays favored.\n",
    "\n",
    "The difference with explicit feedback is that this model is trained through negative sampling: for any known user-movie pair, one or more items are randomly sampled to act as negatives, expressing a lack of preference by the user for the sampled item.\n",
    "\n",
    "Apart from this architectural difference, the training is similar as before, with similar functions from the class [`factorization.implicit.ImplicitFactorizationModel`](https://maciejkula.github.io/spotlight/factorization/implicit.html).\n",
    " "
   ]
  },
  {
   "cell_type": "markdown",
   "metadata": {},
   "source": [
    "### Sequential models\n",
    "\n",
    "The models described above fail to acknowledge the ordering of users' interactions with the recommender. They also struggle adding new users from which we have no previous movie ratings.\n",
    "\n",
    "Here we have [`sequence.implicit.ImplicitSequenceModel`](https://maciejkula.github.io/spotlight/sequence/implicit.html), which uses implicit feedback as a sequence. \n",
    "\n",
    "Spotlight incorporates utilities for creating synthetic datasets like `generate_sequential`, which could be used to create synthetic data were we interested in implementing a sequential model and having sequential data from Movielens."
   ]
  }
 ],
 "metadata": {
  "language_info": {
   "name": "python"
  }
 },
 "nbformat": 4,
 "nbformat_minor": 2
}
